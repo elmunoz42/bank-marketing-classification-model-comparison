{
 "cells": [
  {
   "cell_type": "markdown",
   "metadata": {},
   "source": [
    "# Practical Application III: Comparing Classifiers\n",
    "\n",
    "**Overview**: In this practical application, your goal is to compare the performance of the classifiers we encountered in this section, namely K Nearest Neighbor, Logistic Regression, Decision Trees, and Support Vector Machines.  We will utilize a dataset related to marketing bank products over the telephone.  \n",
    "\n"
   ]
  },
  {
   "cell_type": "markdown",
   "metadata": {},
   "source": [
    "### Getting Started\n",
    "\n",
    "Our dataset comes from the UCI Machine Learning repository [link](https://archive.ics.uci.edu/ml/datasets/bank+marketing).  The data is from a Portugese banking institution and is a collection of the results of multiple marketing campaigns.  We will make use of the article accompanying the dataset [here](CRISP-DM-BANK.pdf) for more information on the data and features.\n",
    "\n"
   ]
  },
  {
   "cell_type": "markdown",
   "metadata": {},
   "source": [
    "### Problem 1: Understanding the Data\n",
    "\n",
    "To gain a better understanding of the data, please read the information provided in the UCI link above, and examine the **Materials and Methods** section of the paper.  How many marketing campaigns does this data represent?"
   ]
  },
  {
   "cell_type": "code",
   "execution_count": 1,
   "metadata": {},
   "outputs": [],
   "source": [
    "# The dataset collected is related to 17 campaigns that occurred between May 2008 and November 2010.\n",
    "# Many features were collected and out of the over 79k samples about 8% of them are positive, \n",
    "# which makes this a very good quality dataset for classification models."
   ]
  },
  {
   "cell_type": "markdown",
   "metadata": {},
   "source": [
    "### Problem 2: Read in the Data\n",
    "\n",
    "Use pandas to read in the dataset `bank-additional-full.csv` and assign to a meaningful variable name."
   ]
  },
  {
   "cell_type": "code",
   "execution_count": 102,
   "metadata": {},
   "outputs": [
    {
     "data": {
      "text/plain": [
       "<module 'functions' from '/home/elmunoz42/aimlbootcamp/aimlbootcamp/practical-assignement-3/functions.py'>"
      ]
     },
     "execution_count": 102,
     "metadata": {},
     "output_type": "execute_result"
    }
   ],
   "source": [
    "import pandas as pd\n",
    "import numpy as np\n",
    "import importlib\n",
    "import functions\n",
    "importlib.reload(functions)"
   ]
  },
  {
   "cell_type": "code",
   "execution_count": 103,
   "metadata": {},
   "outputs": [],
   "source": [
    "df = pd.read_csv('data/bank-additional/bank-additional-full.csv', sep = ';')"
   ]
  },
  {
   "cell_type": "code",
   "execution_count": 104,
   "metadata": {},
   "outputs": [
    {
     "data": {
      "text/html": [
       "<div>\n",
       "<style scoped>\n",
       "    .dataframe tbody tr th:only-of-type {\n",
       "        vertical-align: middle;\n",
       "    }\n",
       "\n",
       "    .dataframe tbody tr th {\n",
       "        vertical-align: top;\n",
       "    }\n",
       "\n",
       "    .dataframe thead th {\n",
       "        text-align: right;\n",
       "    }\n",
       "</style>\n",
       "<table border=\"1\" class=\"dataframe\">\n",
       "  <thead>\n",
       "    <tr style=\"text-align: right;\">\n",
       "      <th></th>\n",
       "      <th>age</th>\n",
       "      <th>job</th>\n",
       "      <th>marital</th>\n",
       "      <th>education</th>\n",
       "      <th>default</th>\n",
       "      <th>housing</th>\n",
       "      <th>loan</th>\n",
       "      <th>contact</th>\n",
       "      <th>month</th>\n",
       "      <th>day_of_week</th>\n",
       "      <th>...</th>\n",
       "      <th>campaign</th>\n",
       "      <th>pdays</th>\n",
       "      <th>previous</th>\n",
       "      <th>poutcome</th>\n",
       "      <th>emp.var.rate</th>\n",
       "      <th>cons.price.idx</th>\n",
       "      <th>cons.conf.idx</th>\n",
       "      <th>euribor3m</th>\n",
       "      <th>nr.employed</th>\n",
       "      <th>y</th>\n",
       "    </tr>\n",
       "  </thead>\n",
       "  <tbody>\n",
       "    <tr>\n",
       "      <th>0</th>\n",
       "      <td>56</td>\n",
       "      <td>housemaid</td>\n",
       "      <td>married</td>\n",
       "      <td>basic.4y</td>\n",
       "      <td>no</td>\n",
       "      <td>no</td>\n",
       "      <td>no</td>\n",
       "      <td>telephone</td>\n",
       "      <td>may</td>\n",
       "      <td>mon</td>\n",
       "      <td>...</td>\n",
       "      <td>1</td>\n",
       "      <td>999</td>\n",
       "      <td>0</td>\n",
       "      <td>nonexistent</td>\n",
       "      <td>1.1</td>\n",
       "      <td>93.994</td>\n",
       "      <td>-36.4</td>\n",
       "      <td>4.857</td>\n",
       "      <td>5191.0</td>\n",
       "      <td>no</td>\n",
       "    </tr>\n",
       "    <tr>\n",
       "      <th>1</th>\n",
       "      <td>57</td>\n",
       "      <td>services</td>\n",
       "      <td>married</td>\n",
       "      <td>high.school</td>\n",
       "      <td>unknown</td>\n",
       "      <td>no</td>\n",
       "      <td>no</td>\n",
       "      <td>telephone</td>\n",
       "      <td>may</td>\n",
       "      <td>mon</td>\n",
       "      <td>...</td>\n",
       "      <td>1</td>\n",
       "      <td>999</td>\n",
       "      <td>0</td>\n",
       "      <td>nonexistent</td>\n",
       "      <td>1.1</td>\n",
       "      <td>93.994</td>\n",
       "      <td>-36.4</td>\n",
       "      <td>4.857</td>\n",
       "      <td>5191.0</td>\n",
       "      <td>no</td>\n",
       "    </tr>\n",
       "    <tr>\n",
       "      <th>2</th>\n",
       "      <td>37</td>\n",
       "      <td>services</td>\n",
       "      <td>married</td>\n",
       "      <td>high.school</td>\n",
       "      <td>no</td>\n",
       "      <td>yes</td>\n",
       "      <td>no</td>\n",
       "      <td>telephone</td>\n",
       "      <td>may</td>\n",
       "      <td>mon</td>\n",
       "      <td>...</td>\n",
       "      <td>1</td>\n",
       "      <td>999</td>\n",
       "      <td>0</td>\n",
       "      <td>nonexistent</td>\n",
       "      <td>1.1</td>\n",
       "      <td>93.994</td>\n",
       "      <td>-36.4</td>\n",
       "      <td>4.857</td>\n",
       "      <td>5191.0</td>\n",
       "      <td>no</td>\n",
       "    </tr>\n",
       "    <tr>\n",
       "      <th>3</th>\n",
       "      <td>40</td>\n",
       "      <td>admin.</td>\n",
       "      <td>married</td>\n",
       "      <td>basic.6y</td>\n",
       "      <td>no</td>\n",
       "      <td>no</td>\n",
       "      <td>no</td>\n",
       "      <td>telephone</td>\n",
       "      <td>may</td>\n",
       "      <td>mon</td>\n",
       "      <td>...</td>\n",
       "      <td>1</td>\n",
       "      <td>999</td>\n",
       "      <td>0</td>\n",
       "      <td>nonexistent</td>\n",
       "      <td>1.1</td>\n",
       "      <td>93.994</td>\n",
       "      <td>-36.4</td>\n",
       "      <td>4.857</td>\n",
       "      <td>5191.0</td>\n",
       "      <td>no</td>\n",
       "    </tr>\n",
       "    <tr>\n",
       "      <th>4</th>\n",
       "      <td>56</td>\n",
       "      <td>services</td>\n",
       "      <td>married</td>\n",
       "      <td>high.school</td>\n",
       "      <td>no</td>\n",
       "      <td>no</td>\n",
       "      <td>yes</td>\n",
       "      <td>telephone</td>\n",
       "      <td>may</td>\n",
       "      <td>mon</td>\n",
       "      <td>...</td>\n",
       "      <td>1</td>\n",
       "      <td>999</td>\n",
       "      <td>0</td>\n",
       "      <td>nonexistent</td>\n",
       "      <td>1.1</td>\n",
       "      <td>93.994</td>\n",
       "      <td>-36.4</td>\n",
       "      <td>4.857</td>\n",
       "      <td>5191.0</td>\n",
       "      <td>no</td>\n",
       "    </tr>\n",
       "  </tbody>\n",
       "</table>\n",
       "<p>5 rows × 21 columns</p>\n",
       "</div>"
      ],
      "text/plain": [
       "   age        job  marital    education  default housing loan    contact  \\\n",
       "0   56  housemaid  married     basic.4y       no      no   no  telephone   \n",
       "1   57   services  married  high.school  unknown      no   no  telephone   \n",
       "2   37   services  married  high.school       no     yes   no  telephone   \n",
       "3   40     admin.  married     basic.6y       no      no   no  telephone   \n",
       "4   56   services  married  high.school       no      no  yes  telephone   \n",
       "\n",
       "  month day_of_week  ...  campaign  pdays  previous     poutcome emp.var.rate  \\\n",
       "0   may         mon  ...         1    999         0  nonexistent          1.1   \n",
       "1   may         mon  ...         1    999         0  nonexistent          1.1   \n",
       "2   may         mon  ...         1    999         0  nonexistent          1.1   \n",
       "3   may         mon  ...         1    999         0  nonexistent          1.1   \n",
       "4   may         mon  ...         1    999         0  nonexistent          1.1   \n",
       "\n",
       "   cons.price.idx  cons.conf.idx  euribor3m  nr.employed   y  \n",
       "0          93.994          -36.4      4.857       5191.0  no  \n",
       "1          93.994          -36.4      4.857       5191.0  no  \n",
       "2          93.994          -36.4      4.857       5191.0  no  \n",
       "3          93.994          -36.4      4.857       5191.0  no  \n",
       "4          93.994          -36.4      4.857       5191.0  no  \n",
       "\n",
       "[5 rows x 21 columns]"
      ]
     },
     "execution_count": 104,
     "metadata": {},
     "output_type": "execute_result"
    }
   ],
   "source": [
    "df.head()"
   ]
  },
  {
   "cell_type": "markdown",
   "metadata": {},
   "source": [
    "### Problem 3: Understanding the Features\n",
    "\n",
    "\n",
    "Examine the data description below, and determine if any of the features are missing values or need to be coerced to a different data type.\n",
    "\n",
    "\n",
    "```\n",
    "Input variables:\n",
    "# bank client data:\n",
    "1 - age (numeric)\n",
    "2 - job : type of job (categorical: 'admin.','blue-collar','entrepreneur','housemaid','management','retired','self-employed','services','student','technician','unemployed','unknown')\n",
    "3 - marital : marital status (categorical: 'divorced','married','single','unknown'; note: 'divorced' means divorced or widowed)\n",
    "4 - education (categorical: 'basic.4y','basic.6y','basic.9y','high.school','illiterate','professional.course','university.degree','unknown')\n",
    "5 - default: has credit in default? (categorical: 'no','yes','unknown')\n",
    "6 - housing: has housing loan? (categorical: 'no','yes','unknown')\n",
    "7 - loan: has personal loan? (categorical: 'no','yes','unknown')\n",
    "# related with the last contact of the current campaign:\n",
    "8 - contact: contact communication type (categorical: 'cellular','telephone')\n",
    "9 - month: last contact month of year (categorical: 'jan', 'feb', 'mar', ..., 'nov', 'dec')\n",
    "10 - day_of_week: last contact day of the week (categorical: 'mon','tue','wed','thu','fri')\n",
    "11 - duration: last contact duration, in seconds (numeric). Important note: this attribute highly affects the output target (e.g., if duration=0 then y='no'). Yet, the duration is not known before a call is performed. Also, after the end of the call y is obviously known. Thus, this input should only be included for benchmark purposes and should be discarded if the intention is to have a realistic predictive model.\n",
    "# other attributes:\n",
    "12 - campaign: number of contacts performed during this campaign and for this client (numeric, includes last contact)\n",
    "13 - pdays: number of days that passed by after the client was last contacted from a previous campaign (numeric; 999 means client was not previously contacted)\n",
    "14 - previous: number of contacts performed before this campaign and for this client (numeric)\n",
    "15 - poutcome: outcome of the previous marketing campaign (categorical: 'failure','nonexistent','success')\n",
    "# social and economic context attributes\n",
    "16 - emp.var.rate: employment variation rate - quarterly indicator (numeric)\n",
    "17 - cons.price.idx: consumer price index - monthly indicator (numeric)\n",
    "18 - cons.conf.idx: consumer confidence index - monthly indicator (numeric)\n",
    "19 - euribor3m: euribor 3 month rate - daily indicator (numeric)\n",
    "20 - nr.employed: number of employees - quarterly indicator (numeric)\n",
    "\n",
    "Output variable (desired target):\n",
    "21 - y - has the client subscribed a term deposit? (binary: 'yes','no')\n",
    "```\n",
    "\n"
   ]
  },
  {
   "cell_type": "code",
   "execution_count": 105,
   "metadata": {},
   "outputs": [
    {
     "data": {
      "image/png": "[encoded data removed]",
      "text/plain": [
       "<Figure size 1200x600 with 1 Axes>"
      ]
     },
     "metadata": {},
     "output_type": "display_data"
    },
    {
     "name": "stdout",
     "output_type": "stream",
     "text": [
      "Missing value analysis saved to images/fig1.jpg\n",
      "Total columns with missing values: 3\n",
      "Column with most missing values: default (20.87%)\n"
     ]
    }
   ],
   "source": [
    "# Confirm that there are no missing values. Plotting function From functions.py file...\n",
    "# Call the function with custom NA values\n",
    "functions.plot_dataframe_missing_values(df_processed, 'images/fig1.jpg')"
   ]
  },
  {
   "cell_type": "code",
   "execution_count": 106,
   "metadata": {},
   "outputs": [
    {
     "data": {
      "text/html": [
       "<div>\n",
       "<style scoped>\n",
       "    .dataframe tbody tr th:only-of-type {\n",
       "        vertical-align: middle;\n",
       "    }\n",
       "\n",
       "    .dataframe tbody tr th {\n",
       "        vertical-align: top;\n",
       "    }\n",
       "\n",
       "    .dataframe thead th {\n",
       "        text-align: right;\n",
       "    }\n",
       "</style>\n",
       "<table border=\"1\" class=\"dataframe\">\n",
       "  <thead>\n",
       "    <tr style=\"text-align: right;\">\n",
       "      <th></th>\n",
       "      <th>default</th>\n",
       "      <th>housing</th>\n",
       "      <th>loan</th>\n",
       "      <th>y</th>\n",
       "    </tr>\n",
       "  </thead>\n",
       "  <tbody>\n",
       "    <tr>\n",
       "      <th>0</th>\n",
       "      <td>0.0</td>\n",
       "      <td>0.0</td>\n",
       "      <td>0.0</td>\n",
       "      <td>0.0</td>\n",
       "    </tr>\n",
       "    <tr>\n",
       "      <th>1</th>\n",
       "      <td>NaN</td>\n",
       "      <td>0.0</td>\n",
       "      <td>0.0</td>\n",
       "      <td>0.0</td>\n",
       "    </tr>\n",
       "    <tr>\n",
       "      <th>2</th>\n",
       "      <td>0.0</td>\n",
       "      <td>1.0</td>\n",
       "      <td>0.0</td>\n",
       "      <td>0.0</td>\n",
       "    </tr>\n",
       "    <tr>\n",
       "      <th>3</th>\n",
       "      <td>0.0</td>\n",
       "      <td>0.0</td>\n",
       "      <td>0.0</td>\n",
       "      <td>0.0</td>\n",
       "    </tr>\n",
       "    <tr>\n",
       "      <th>4</th>\n",
       "      <td>0.0</td>\n",
       "      <td>0.0</td>\n",
       "      <td>1.0</td>\n",
       "      <td>0.0</td>\n",
       "    </tr>\n",
       "  </tbody>\n",
       "</table>\n",
       "</div>"
      ],
      "text/plain": [
       "   default  housing  loan    y\n",
       "0      0.0      0.0   0.0  0.0\n",
       "1      NaN      0.0   0.0  0.0\n",
       "2      0.0      1.0   0.0  0.0\n",
       "3      0.0      0.0   0.0  0.0\n",
       "4      0.0      0.0   1.0  0.0"
      ]
     },
     "execution_count": 106,
     "metadata": {},
     "output_type": "execute_result"
    }
   ],
   "source": [
    "# Create a copy of the dataframe to avoid modifying the original\n",
    "df_processed = df.copy()\n",
    "\n",
    "# Transform binary yes/no features\n",
    "binary_features = ['default', 'housing', 'loan', 'y']\n",
    "for feature in binary_features:\n",
    "    df_processed[feature] = df_processed[feature].map({'yes': 1, 'no': 0, 'unknown': np.nan})\n",
    "\n",
    "# Check the result\n",
    "df_processed[binary_features].head()"
   ]
  },
  {
   "cell_type": "markdown",
   "metadata": {},
   "source": [
    "# Statistical Description \n",
    "\n",
    "## Using describe() function"
   ]
  },
  {
   "cell_type": "code",
   "execution_count": 107,
   "metadata": {},
   "outputs": [
    {
     "data": {
      "text/html": [
       "<div>\n",
       "<style scoped>\n",
       "    .dataframe tbody tr th:only-of-type {\n",
       "        vertical-align: middle;\n",
       "    }\n",
       "\n",
       "    .dataframe tbody tr th {\n",
       "        vertical-align: top;\n",
       "    }\n",
       "\n",
       "    .dataframe thead th {\n",
       "        text-align: right;\n",
       "    }\n",
       "</style>\n",
       "<table border=\"1\" class=\"dataframe\">\n",
       "  <thead>\n",
       "    <tr style=\"text-align: right;\">\n",
       "      <th></th>\n",
       "      <th>age</th>\n",
       "      <th>default</th>\n",
       "      <th>housing</th>\n",
       "      <th>loan</th>\n",
       "      <th>duration</th>\n",
       "      <th>campaign</th>\n",
       "      <th>pdays</th>\n",
       "      <th>previous</th>\n",
       "      <th>emp.var.rate</th>\n",
       "      <th>cons.price.idx</th>\n",
       "      <th>cons.conf.idx</th>\n",
       "      <th>euribor3m</th>\n",
       "      <th>nr.employed</th>\n",
       "      <th>y</th>\n",
       "    </tr>\n",
       "  </thead>\n",
       "  <tbody>\n",
       "    <tr>\n",
       "      <th>count</th>\n",
       "      <td>41188.00000</td>\n",
       "      <td>32591.000000</td>\n",
       "      <td>40198.000000</td>\n",
       "      <td>40198.000000</td>\n",
       "      <td>41188.000000</td>\n",
       "      <td>41188.000000</td>\n",
       "      <td>41188.000000</td>\n",
       "      <td>41188.000000</td>\n",
       "      <td>41188.000000</td>\n",
       "      <td>41188.000000</td>\n",
       "      <td>41188.000000</td>\n",
       "      <td>41188.000000</td>\n",
       "      <td>41188.000000</td>\n",
       "      <td>41188.000000</td>\n",
       "    </tr>\n",
       "    <tr>\n",
       "      <th>mean</th>\n",
       "      <td>40.02406</td>\n",
       "      <td>0.000092</td>\n",
       "      <td>0.536743</td>\n",
       "      <td>0.155431</td>\n",
       "      <td>258.285010</td>\n",
       "      <td>2.567593</td>\n",
       "      <td>962.475454</td>\n",
       "      <td>0.172963</td>\n",
       "      <td>0.081886</td>\n",
       "      <td>93.575664</td>\n",
       "      <td>-40.502600</td>\n",
       "      <td>3.621291</td>\n",
       "      <td>5167.035911</td>\n",
       "      <td>0.112654</td>\n",
       "    </tr>\n",
       "    <tr>\n",
       "      <th>std</th>\n",
       "      <td>10.42125</td>\n",
       "      <td>0.009594</td>\n",
       "      <td>0.498654</td>\n",
       "      <td>0.362319</td>\n",
       "      <td>259.279249</td>\n",
       "      <td>2.770014</td>\n",
       "      <td>186.910907</td>\n",
       "      <td>0.494901</td>\n",
       "      <td>1.570960</td>\n",
       "      <td>0.578840</td>\n",
       "      <td>4.628198</td>\n",
       "      <td>1.734447</td>\n",
       "      <td>72.251528</td>\n",
       "      <td>0.316173</td>\n",
       "    </tr>\n",
       "    <tr>\n",
       "      <th>min</th>\n",
       "      <td>17.00000</td>\n",
       "      <td>0.000000</td>\n",
       "      <td>0.000000</td>\n",
       "      <td>0.000000</td>\n",
       "      <td>0.000000</td>\n",
       "      <td>1.000000</td>\n",
       "      <td>0.000000</td>\n",
       "      <td>0.000000</td>\n",
       "      <td>-3.400000</td>\n",
       "      <td>92.201000</td>\n",
       "      <td>-50.800000</td>\n",
       "      <td>0.634000</td>\n",
       "      <td>4963.600000</td>\n",
       "      <td>0.000000</td>\n",
       "    </tr>\n",
       "    <tr>\n",
       "      <th>25%</th>\n",
       "      <td>32.00000</td>\n",
       "      <td>0.000000</td>\n",
       "      <td>0.000000</td>\n",
       "      <td>0.000000</td>\n",
       "      <td>102.000000</td>\n",
       "      <td>1.000000</td>\n",
       "      <td>999.000000</td>\n",
       "      <td>0.000000</td>\n",
       "      <td>-1.800000</td>\n",
       "      <td>93.075000</td>\n",
       "      <td>-42.700000</td>\n",
       "      <td>1.344000</td>\n",
       "      <td>5099.100000</td>\n",
       "      <td>0.000000</td>\n",
       "    </tr>\n",
       "    <tr>\n",
       "      <th>50%</th>\n",
       "      <td>38.00000</td>\n",
       "      <td>0.000000</td>\n",
       "      <td>1.000000</td>\n",
       "      <td>0.000000</td>\n",
       "      <td>180.000000</td>\n",
       "      <td>2.000000</td>\n",
       "      <td>999.000000</td>\n",
       "      <td>0.000000</td>\n",
       "      <td>1.100000</td>\n",
       "      <td>93.749000</td>\n",
       "      <td>-41.800000</td>\n",
       "      <td>4.857000</td>\n",
       "      <td>5191.000000</td>\n",
       "      <td>0.000000</td>\n",
       "    </tr>\n",
       "    <tr>\n",
       "      <th>75%</th>\n",
       "      <td>47.00000</td>\n",
       "      <td>0.000000</td>\n",
       "      <td>1.000000</td>\n",
       "      <td>0.000000</td>\n",
       "      <td>319.000000</td>\n",
       "      <td>3.000000</td>\n",
       "      <td>999.000000</td>\n",
       "      <td>0.000000</td>\n",
       "      <td>1.400000</td>\n",
       "      <td>93.994000</td>\n",
       "      <td>-36.400000</td>\n",
       "      <td>4.961000</td>\n",
       "      <td>5228.100000</td>\n",
       "      <td>0.000000</td>\n",
       "    </tr>\n",
       "    <tr>\n",
       "      <th>max</th>\n",
       "      <td>98.00000</td>\n",
       "      <td>1.000000</td>\n",
       "      <td>1.000000</td>\n",
       "      <td>1.000000</td>\n",
       "      <td>4918.000000</td>\n",
       "      <td>56.000000</td>\n",
       "      <td>999.000000</td>\n",
       "      <td>7.000000</td>\n",
       "      <td>1.400000</td>\n",
       "      <td>94.767000</td>\n",
       "      <td>-26.900000</td>\n",
       "      <td>5.045000</td>\n",
       "      <td>5228.100000</td>\n",
       "      <td>1.000000</td>\n",
       "    </tr>\n",
       "  </tbody>\n",
       "</table>\n",
       "</div>"
      ],
      "text/plain": [
       "               age       default       housing          loan      duration  \\\n",
       "count  41188.00000  32591.000000  40198.000000  40198.000000  41188.000000   \n",
       "mean      40.02406      0.000092      0.536743      0.155431    258.285010   \n",
       "std       10.42125      0.009594      0.498654      0.362319    259.279249   \n",
       "min       17.00000      0.000000      0.000000      0.000000      0.000000   \n",
       "25%       32.00000      0.000000      0.000000      0.000000    102.000000   \n",
       "50%       38.00000      0.000000      1.000000      0.000000    180.000000   \n",
       "75%       47.00000      0.000000      1.000000      0.000000    319.000000   \n",
       "max       98.00000      1.000000      1.000000      1.000000   4918.000000   \n",
       "\n",
       "           campaign         pdays      previous  emp.var.rate  cons.price.idx  \\\n",
       "count  41188.000000  41188.000000  41188.000000  41188.000000    41188.000000   \n",
       "mean       2.567593    962.475454      0.172963      0.081886       93.575664   \n",
       "std        2.770014    186.910907      0.494901      1.570960        0.578840   \n",
       "min        1.000000      0.000000      0.000000     -3.400000       92.201000   \n",
       "25%        1.000000    999.000000      0.000000     -1.800000       93.075000   \n",
       "50%        2.000000    999.000000      0.000000      1.100000       93.749000   \n",
       "75%        3.000000    999.000000      0.000000      1.400000       93.994000   \n",
       "max       56.000000    999.000000      7.000000      1.400000       94.767000   \n",
       "\n",
       "       cons.conf.idx     euribor3m   nr.employed             y  \n",
       "count   41188.000000  41188.000000  41188.000000  41188.000000  \n",
       "mean      -40.502600      3.621291   5167.035911      0.112654  \n",
       "std         4.628198      1.734447     72.251528      0.316173  \n",
       "min       -50.800000      0.634000   4963.600000      0.000000  \n",
       "25%       -42.700000      1.344000   5099.100000      0.000000  \n",
       "50%       -41.800000      4.857000   5191.000000      0.000000  \n",
       "75%       -36.400000      4.961000   5228.100000      0.000000  \n",
       "max       -26.900000      5.045000   5228.100000      1.000000  "
      ]
     },
     "execution_count": 107,
     "metadata": {},
     "output_type": "execute_result"
    }
   ],
   "source": [
    "df_processed.describe()"
   ]
  },
  {
   "cell_type": "markdown",
   "metadata": {},
   "source": [
    "## EXPERIMENT: Using Claude API Function Against Column Descriptions and Pandas describe() Output"
   ]
  },
  {
   "cell_type": "code",
   "execution_count": 109,
   "metadata": {},
   "outputs": [
    {
     "name": "stdout",
     "output_type": "stream",
     "text": [
      "Here are the key characteristics of the dataset based on the provided statistics:\n",
      "\n",
      "- Age:\n",
      "  - Typical age is around 40 years old (mean: 40.02, median: 38) \n",
      "  - Most people are between 32 and 47 years old (25th to 75th percentile)\n",
      "  - Age ranges from 17 to 98 years old\n",
      "\n",
      "- Default, Housing, Loan:\n",
      "  - These appear to be binary variables (0 or 1)\n",
      "  - Default rate is very low (mean: 0.00009) \n",
      "  - About 54% have housing loans (mean: 0.54)\n",
      "  - About 16% have personal loans (mean: 0.16)\n",
      "  - There are many missing values for Default (20.9% missing)\n",
      "\n",
      "- Duration:\n",
      "  - Average call duration is 258 seconds (mean), with 50% between 102 and 319 seconds (25th to 75th percentile)\n",
      "  - Durations range from 0 to 4918 seconds, indicating potential outliers on the high end\n",
      "\n",
      "- Campaign:\n",
      "  - Average number of contacts is 2.6 (mean), with 50% between 1 and 3 (25th to 75th percentile) \n",
      "  - Maximum contacts is 56, indicating potential outliers\n",
      "\n",
      "- Previous:\n",
      "  - Average number of previous contacts is low at 0.17 (mean)\n",
      "  - 75% had no previous contacts\n",
      "  - Previous contacts range from 0 to 7\n",
      "\n",
      "- Economic indicators (emp.var.rate, cons.price.idx, cons.conf.idx, euribor3m, nr.employed) vary within relatively small ranges\n",
      "\n",
      "- Target variable y:\n",
      "  - Binary classification (0 or 1)\n",
      "  - Imbalanced classes with about 11% being class 1 (mean: 0.11)\n",
      "\n",
      "Potential issues:\n",
      "- Missing values in Default (20.9%), Housing (2.4%) and Loan (2.4%) \n",
      "- Possible outliers in Duration and Campaign\n",
      "- Imbalanced target classes\n",
      "\n",
      "Recommended next steps:\n",
      "- Impute missing values in Default, Housing, Loan\n",
      "- Investigate and handle outliers in Duration and Campaign\n",
      "- Consider resampling techniques to handle class imbalance\n",
      "- One-hot encode categorical features for modeling\n",
      "- Split data into train/validation/test sets\n",
      "- Explore models suitable for binary classification (e.g., logistic regression, decision trees, random forest)\n"
     ]
    }
   ],
   "source": [
    "# CUstom function imported from the functions.py file\n",
    "## ADD YOUR OWN API KEY\n",
    "model = 'claude-3-opus-20240229'\n",
    "custom_prompt = \"\"\"\n",
    "        You are an expert data analyst. Based on the dataset statistics provided, give me a concise, \n",
    "        human-readable interpretation of the key characteristics of this dataset. Focus on:\n",
    "        \n",
    "        1. The typical values and ranges for numerical columns\n",
    "        2. Ignore the categorical features since you don't have data for these. DONT DESCRIBE FEATURES FOR WHICH YOU DON'T HAVE NUMBERS.\n",
    "        3. Any potential issues with the data (e.g., missing values, outliers)\n",
    "        4. Any interesting patterns or insights\n",
    "        \n",
    "        Format your response as bullet points that are easy to read and understand.\n",
    "        Make your insights actionable for further data analysis and classification model development.\n",
    "        \"\"\"\n",
    "\n",
    "## AFTER ADDING YOUR API KEY UNCOMMENT CODE TO RUN\n",
    "# interpretation = functions.describe_dataset_with_claude(df_processed, claude_key, model='claude-3-opus-20240229', \n",
    "#                                 version='2023-06-01', custom_prompt=custom_prompt, \n",
    "#                                 column_description='', column_info_file='custom_info.txt')\n",
    "# # output\n",
    "# print(interpretation)\n",
    "\n",
    "# OUTPUT ALSO SAVED TO THIS FILE FOR REVIEW: claude-statistical-analysis.txt"
   ]
  },
  {
   "cell_type": "markdown",
   "metadata": {},
   "source": [
    "## Claude Model Response Evaluation:\n",
    "\n",
    "To run this yourself you'll need an API key https://console.anthropic.com/\n",
    "\n",
    "The above technique is experimental. When I ran it at first it was hallucinating for features it didn't have any data for thus the all caps prompt \"DONT DESCRIBE FEATURES FOR WHICH YOU DON'T HAVE NUMBERS.\" was necessary. That improved the result significantly. \n",
    "\n",
    "Please note that the response is slighly different each time it is run, and we have to corroborate any of its claims.\n",
    "\n",
    "The experiment was helpful in identifying some issues. The sample output can also be reviewed in this file: claude-statistical-analysis.txt \n"
   ]
  },
  {
   "cell_type": "markdown",
   "metadata": {},
   "source": [
    "### _pdays_ Feature Has Hard Upper Limit Presumably Due to a Form Limitation\n",
    "\n",
    "It does provide some further avenues for exploration and data cleaning. On a different pass it had noticed that the pdays column had a mode for the number 999 which is also the max value. \n",
    "\n",
    "The dataset had described:\n",
    "\n",
    "\"pdays: number of days that passed by after the client was last contacted from a previous campaign (numeric; 999 means client was not previously contacted)\" \n",
    "\n",
    "This is not entirely true since according to the data there have been over 4000 customers that had been reached out to at least once and also have the value set to 999 "
   ]
  },
  {
   "cell_type": "code",
   "execution_count": 110,
   "metadata": {},
   "outputs": [
    {
     "data": {
      "text/plain": [
       "999    39673\n",
       "3        439\n",
       "6        412\n",
       "4        118\n",
       "9         64\n",
       "2         61\n",
       "7         60\n",
       "12        58\n",
       "10        52\n",
       "5         46\n",
       "13        36\n",
       "11        28\n",
       "1         26\n",
       "15        24\n",
       "14        20\n",
       "8         18\n",
       "0         15\n",
       "16        11\n",
       "17         8\n",
       "18         7\n",
       "22         3\n",
       "19         3\n",
       "21         2\n",
       "25         1\n",
       "26         1\n",
       "27         1\n",
       "20         1\n",
       "Name: pdays, dtype: int64"
      ]
     },
     "execution_count": 110,
     "metadata": {},
     "output_type": "execute_result"
    }
   ],
   "source": [
    "df_processed['pdays'].value_counts()"
   ]
  },
  {
   "cell_type": "code",
   "execution_count": 111,
   "metadata": {},
   "outputs": [
    {
     "data": {
      "text/plain": [
       "0    35563\n",
       "1     3696\n",
       "2      349\n",
       "3       50\n",
       "4       12\n",
       "5        2\n",
       "6        1\n",
       "Name: previous, dtype: int64"
      ]
     },
     "execution_count": 111,
     "metadata": {},
     "output_type": "execute_result"
    }
   ],
   "source": [
    "df_processed.query(\"pdays == 999\")['previous'].value_counts()"
   ]
  },
  {
   "cell_type": "markdown",
   "metadata": {},
   "source": [
    "Based on the query to see the value counts this seems to be a limitation of the intake form. While the majority of instances of 999 pdays is people that haven't been reached out to some of them are simply people that presumably hadn't been reached out to in a long time. Thus it does indeed seem to be an artifact in the data that needs to be accounted for. More on this later."
   ]
  },
  {
   "cell_type": "markdown",
   "metadata": {},
   "source": [
    "### Further Review of Missing, Unkown and 999 Values affecting _pdays, default, housing and loan_ Features\n",
    "\n",
    "Our experimental Claude API statistical analysis claimed these features had missing values and other issues."
   ]
  },
  {
   "cell_type": "code",
   "execution_count": 112,
   "metadata": {},
   "outputs": [
    {
     "data": {
      "text/plain": [
       "0.0    32588\n",
       "NaN     8597\n",
       "1.0        3\n",
       "Name: default, dtype: int64"
      ]
     },
     "execution_count": 112,
     "metadata": {},
     "output_type": "execute_result"
    }
   ],
   "source": [
    "df_processed['default'].value_counts(dropna=False)"
   ]
  },
  {
   "cell_type": "code",
   "execution_count": 113,
   "metadata": {},
   "outputs": [
    {
     "data": {
      "text/plain": [
       "1.0    21576\n",
       "0.0    18622\n",
       "NaN      990\n",
       "Name: housing, dtype: int64"
      ]
     },
     "execution_count": 113,
     "metadata": {},
     "output_type": "execute_result"
    }
   ],
   "source": [
    "df_processed['housing'].value_counts(dropna=False)"
   ]
  },
  {
   "cell_type": "code",
   "execution_count": 114,
   "metadata": {},
   "outputs": [
    {
     "data": {
      "text/plain": [
       "0.0    33950\n",
       "1.0     6248\n",
       "NaN      990\n",
       "Name: loan, dtype: int64"
      ]
     },
     "execution_count": 114,
     "metadata": {},
     "output_type": "execute_result"
    }
   ],
   "source": [
    "df_processed['loan'].value_counts(dropna=False)"
   ]
  },
  {
   "cell_type": "code",
   "execution_count": 115,
   "metadata": {},
   "outputs": [
    {
     "data": {
      "image/png": "[encoded data removed]",
      "text/plain": [
       "<Figure size 1200x600 with 1 Axes>"
      ]
     },
     "metadata": {},
     "output_type": "display_data"
    },
    {
     "name": "stdout",
     "output_type": "stream",
     "text": [
      "Missing value analysis saved to images/fig1B.jpg\n",
      "Total columns with missing values: 4\n",
      "Column with most missing values: pdays (96.32%)\n"
     ]
    }
   ],
   "source": [
    "# Review 999 or unknown entries in addition to other missing values. Plotting function From functions.py file...\n",
    "# Define custom missing value indicators\n",
    "custom_na = {\n",
    "    'pdays': [999],  # 999 in pdays means \"client was not previously contacted\"\n",
    "    'default': ['unknown'],\n",
    "    'housing': ['unknown'],\n",
    "    'loan': ['unknown']\n",
    "}\n",
    "\n",
    "# Call the function with custom NA values\n",
    "functions.plot_dataframe_missing_values(df_processed, 'images/fig1B.jpg', custom_na_values=custom_na)"
   ]
  },
  {
   "cell_type": "markdown",
   "metadata": {},
   "source": [
    "### Problem 4: Understanding the Task\n",
    "\n",
    "After examining the description and data, your goal now is to clearly state the *Business Objective* of the task.  State the objective below."
   ]
  },
  {
   "cell_type": "code",
   "execution_count": 116,
   "metadata": {},
   "outputs": [
    {
     "name": "stdout",
     "output_type": "stream",
     "text": [
      "<class 'pandas.core.frame.DataFrame'>\n",
      "RangeIndex: 41188 entries, 0 to 41187\n",
      "Data columns (total 21 columns):\n",
      " #   Column          Non-Null Count  Dtype  \n",
      "---  ------          --------------  -----  \n",
      " 0   age             41188 non-null  int64  \n",
      " 1   job             41188 non-null  object \n",
      " 2   marital         41188 non-null  object \n",
      " 3   education       41188 non-null  object \n",
      " 4   default         32591 non-null  float64\n",
      " 5   housing         40198 non-null  float64\n",
      " 6   loan            40198 non-null  float64\n",
      " 7   contact         41188 non-null  object \n",
      " 8   month           41188 non-null  object \n",
      " 9   day_of_week     41188 non-null  object \n",
      " 10  duration        41188 non-null  int64  \n",
      " 11  campaign        41188 non-null  int64  \n",
      " 12  pdays           41188 non-null  int64  \n",
      " 13  previous        41188 non-null  int64  \n",
      " 14  poutcome        41188 non-null  object \n",
      " 15  emp.var.rate    41188 non-null  float64\n",
      " 16  cons.price.idx  41188 non-null  float64\n",
      " 17  cons.conf.idx   41188 non-null  float64\n",
      " 18  euribor3m       41188 non-null  float64\n",
      " 19  nr.employed     41188 non-null  float64\n",
      " 20  y               41188 non-null  float64\n",
      "dtypes: float64(9), int64(5), object(7)\n",
      "memory usage: 6.6+ MB\n"
     ]
    }
   ],
   "source": [
    "df_processed.info()"
   ]
  },
  {
   "cell_type": "markdown",
   "metadata": {},
   "source": [
    "The Portuguese bank is seeking to increase the number of long-term deposit subscriptions through telemarketing campaigns. Since marketing efforts are costly and can have negative effects if applied indiscriminately, the bank needs to optimize its approach. The business objective is to develop predictive models that can identify which customers are most likely to subscribe to term deposits, thereby maximizing return on investment and minimizing unnecessary contacts.\n",
    "By comparing different classification models using the CRISP-DM methodology, we aim to determine which model provides the most accurate predictions. The final deliverable will include gain and lift visualization charts that will enable the bank's marketing team to identify the optimal cohort of prospects to target, allowing them to focus their efforts on customers with the highest probability of conversion while reducing overall campaign costs."
   ]
  },
  {
   "cell_type": "code",
   "execution_count": null,
   "metadata": {},
   "outputs": [],
   "source": []
  },
  {
   "cell_type": "markdown",
   "metadata": {},
   "source": [
    "### Problem 5: Engineering Features\n",
    "\n",
    "Now that you understand your business objective, we will build a basic model to get started.  Before we can do this, we must work to encode the data.  Using just the bank information features, prepare the features and target column for modeling with appropriate encoding and transformations."
   ]
  },
  {
   "cell_type": "markdown",
   "metadata": {},
   "source": [
    "# The pdays Feature Transformation NEEDS FIX\n",
    "\n",
    "Since over 90% of samples had this feature hitting the artifical 999 limit, we are engineering a new ordered categorical feature called touch_point. I experimented with a few different break points, I noticed however that there was a big gap in the values between 250 or so and the 999 value. There are no values in betwee. Additionaly, since in the smaller numbers there is a lot of variation and marketing impact based on the intuition that the [Recency Effect](https://thedecisionlab.com/biases/recency-effect) might apply here. For example if someone had solicited me yesterday and then calls again the today, I would likely report that as spam. However, if someone reached out 90 days ago, and is now reaching out again that makes a big difference. To capture this type of psychological impact we are going to fan the data out into fibonaci break point ranges. Furthermore if the _previous_ column is equal to 0 then we'll mark the value as _Never_. While we could have simply used a mathematical formula due to the issue with the intake process, I'm choosing to use the categorical settings instead.\n"
   ]
  },
  {
   "cell_type": "code",
   "execution_count": 117,
   "metadata": {},
   "outputs": [
    {
     "name": "stdout",
     "output_type": "stream",
     "text": [
      "Never            35563\n",
      "999-and-over      4110\n",
      "6-to-8-days        490\n",
      "3-days             439\n",
      "9-to-13-days       238\n",
      "4-to-5-days        164\n",
      "14-to-21-days       76\n",
      "2-days              61\n",
      "1-day               26\n",
      "Today               15\n",
      "22-to-34-days        6\n",
      "Name: touch_point, dtype: int64\n",
      "\n",
      "Percentage distribution:\n",
      "Never            86.343110\n",
      "999-and-over      9.978635\n",
      "6-to-8-days       1.189667\n",
      "3-days            1.065844\n",
      "9-to-13-days      0.577838\n",
      "4-to-5-days       0.398174\n",
      "14-to-21-days     0.184520\n",
      "2-days            0.148101\n",
      "1-day             0.063125\n",
      "Today             0.036418\n",
      "22-to-34-days     0.014567\n",
      "Name: touch_point, dtype: float64\n"
     ]
    }
   ],
   "source": [
    "def create_fibonacci_touch_point_simplified(df):\n",
    "    \"\"\"\n",
    "    Create a categorical touch_point feature based on Fibonacci-like intervals\n",
    "    with simplified categories for recent contacts.\n",
    "    \n",
    "    Parameters:\n",
    "    df (pandas.DataFrame): DataFrame containing 'pdays' and 'previous' columns\n",
    "    \n",
    "    Returns:\n",
    "    pandas.Series: New touch_point categorical feature\n",
    "    \"\"\"\n",
    "    # Create a copy to avoid modifying the original dataframe\n",
    "    touch_point = pd.Series(index=df.index, dtype='object')\n",
    "    \n",
    "    # Assign \"Never\" if previous=0 (regardless of pdays value)\n",
    "    touch_point.loc[df['previous'] == 0] = 'Never'\n",
    "    \n",
    "    # Create mask for previously contacted customers\n",
    "    mask = df['previous'] > 0\n",
    "    \n",
    "    # Special case for 999 and over\n",
    "    touch_point.loc[mask & (df['pdays'] >= 999)] = '999-and-over'\n",
    "    \n",
    "    # Early days with simpler categories\n",
    "    touch_point.loc[mask & (df['pdays'] == 0)] = 'Today'\n",
    "    touch_point.loc[mask & (df['pdays'] == 1)] = '1-day'\n",
    "    touch_point.loc[mask & (df['pdays'] == 2)] = '2-days'\n",
    "    touch_point.loc[mask & (df['pdays'] == 3)] = '3-days'\n",
    "    \n",
    "    # Then use Fibonacci-like progression\n",
    "    touch_point.loc[mask & (df['pdays'] >= 4) & (df['pdays'] <= 5)] = '4-to-5-days'\n",
    "    touch_point.loc[mask & (df['pdays'] >= 6) & (df['pdays'] <= 8)] = '6-to-8-days'\n",
    "    touch_point.loc[mask & (df['pdays'] >= 9) & (df['pdays'] <= 13)] = '9-to-13-days'\n",
    "    touch_point.loc[mask & (df['pdays'] >= 14) & (df['pdays'] <= 21)] = '14-to-21-days'\n",
    "    touch_point.loc[mask & (df['pdays'] >= 22) & (df['pdays'] <= 34)] = '22-to-34-days'\n",
    "    touch_point.loc[mask & (df['pdays'] >= 35) & (df['pdays'] <= 55)] = '35-to-55-days'\n",
    "    touch_point.loc[mask & (df['pdays'] >= 56) & (df['pdays'] <= 89)] = '56-to-89-days'\n",
    "    touch_point.loc[mask & (df['pdays'] >= 90) & (df['pdays'] <= 144)] = '90-to-144-days'\n",
    "    touch_point.loc[mask & (df['pdays'] >= 145) & (df['pdays'] <= 233)] = '145-to-233-days'\n",
    "    touch_point.loc[mask & (df['pdays'] >= 234) & (df['pdays'] <= 377)] = '234-to-377-days'\n",
    "    touch_point.loc[mask & (df['pdays'] >= 378) & (df['pdays'] <= 610)] = '378-to-610-days'\n",
    "    touch_point.loc[mask & (df['pdays'] >= 611) & (df['pdays'] < 999)] = '611-to-998-days'\n",
    "    \n",
    "    # Create ordered categories list\n",
    "    ordered_categories = [\n",
    "        'Never', \n",
    "        '999-and-over',\n",
    "        '611-to-998-days',\n",
    "        '378-to-610-days',\n",
    "        '234-to-377-days',\n",
    "        '145-to-233-days',\n",
    "        '90-to-144-days',\n",
    "        '56-to-89-days',\n",
    "        '35-to-55-days',\n",
    "        '22-to-34-days',\n",
    "        '14-to-21-days',\n",
    "        '9-to-13-days',\n",
    "        '6-to-8-days',\n",
    "        '4-to-5-days',\n",
    "        '3-days',\n",
    "        '2-days',\n",
    "        '1-day',\n",
    "        'Today'\n",
    "    ]\n",
    "    \n",
    "    # Remove any categories that don't appear in the data\n",
    "    existing_categories = touch_point.unique()\n",
    "    ordered_categories = [cat for cat in ordered_categories if cat in existing_categories]\n",
    "    \n",
    "    return pd.Categorical(touch_point, categories=ordered_categories, ordered=True)\n",
    "\n",
    "# Apply the function to your processed dataframe\n",
    "df_processed['touch_point'] = create_fibonacci_touch_point_simplified(df_processed)\n",
    "\n",
    "# Print distribution of the new feature\n",
    "print(df_processed['touch_point'].value_counts(dropna=False))\n",
    "print(\"\\nPercentage distribution:\")\n",
    "print(df_processed['touch_point'].value_counts(normalize=True) * 100)"
   ]
  },
  {
   "cell_type": "markdown",
   "metadata": {},
   "source": [
    "# Removing Features from the DataFrame\n",
    "\n",
    "Now that _pdays_ has been translated into _touch_point_ the feature can be removed. \n",
    "\n",
    "The _default_ feature only has 3 positive cases and a large amount of 20% of NaN values, as a result we will also remove this feature from the dataframe as it won't likely help with predictions."
   ]
  },
  {
   "cell_type": "code",
   "execution_count": 126,
   "metadata": {},
   "outputs": [
    {
     "data": {
      "text/plain": [
       "Index(['age', 'job', 'marital', 'education', 'housing', 'loan', 'contact',\n",
       "       'month', 'day_of_week', 'duration', 'campaign', 'previous', 'poutcome',\n",
       "       'emp.var.rate', 'cons.price.idx', 'cons.conf.idx', 'euribor3m',\n",
       "       'nr.employed', 'y', 'touch_point'],\n",
       "      dtype='object')"
      ]
     },
     "execution_count": 126,
     "metadata": {},
     "output_type": "execute_result"
    }
   ],
   "source": [
    "df_prepared = df_processed.drop(['pdays', 'default'], axis=1)\n",
    "df_prepared.columns"
   ]
  },
  {
   "cell_type": "markdown",
   "metadata": {},
   "source": [
    "\n",
    "# Feature Processing Pipeline\r\n",
    "\r\n",
    "## Categorical Features (One-Hot Encoding)\r\n",
    "The following categorical features will be processed using one-hot encoding:\r\n",
    "\r\n",
    "```\r\n",
    "job, marital, education, contact, month, day_of_week, poutcome\r\n",
    "```\r\n",
    "\r\n",
    "## Special Case: touch_point Feature (Ordinal Encoding)\r\n",
    "The `touch_point` feature (derived from `pdays`) will be processed with ordinal encoding:\r\n",
    "\r\n",
    "1. Create meaningful ordinal categories based on when the client was l. (e.g., > 90 days)\r\n",
    "\r\n",
    "2. Assign increasing integers (e.g., 0 through 4)\r\n",
    "\r\n",
    "## Numerical Features (Polynomial Feature Creation)\r\n",
    "For numerical features like:\r\n",
    "```\r\n",
    "age, duration, campaign, previous, emp.var.rate, cons.price.idx, cons.conf.idx, euribor3m, nr.employed\r\n",
    "```\r\n",
    "\r\n",
    "The pipeline will scale these features and generate polynomial features to captthe other transformations for categorical and numerical features."
   ]
  },
  {
   "cell_type": "markdown",
   "metadata": {},
   "source": [
    "## FEATURE PROCESSING --- FIBONACI NEEDS FIX"
   ]
  },
  {
   "cell_type": "code",
   "execution_count": 127,
   "metadata": {},
   "outputs": [],
   "source": [
    "from sklearn.pipeline import Pipeline\n",
    "from sklearn.compose import ColumnTransformer\n",
    "from sklearn.preprocessing import OneHotEncoder, OrdinalEncoder, StandardScaler, PolynomialFeatures\n",
    "\n",
    "# Define column groups\n",
    "categorical_cols = ['job', 'marital', 'education', 'contact', 'month', 'day_of_week', 'poutcome']\n",
    "ordinal_cols = ['touch_point']\n",
    "numerical_cols = ['age', 'duration', 'campaign', 'previous', 'emp.var.rate', \n",
    "                 'cons.price.idx', 'cons.conf.idx', 'euribor3m', 'nr.employed']\n",
    "\n",
    "# Define ordinal categories for touch_point\n",
    "touch_point_categories = [[\n",
    "        'Never', \n",
    "        '999-and-over',\n",
    "        '611-to-998-days',\n",
    "        '378-to-610-days',\n",
    "        '234-to-377-days',\n",
    "        '145-to-233-days',\n",
    "        '90-to-144-days',\n",
    "        '56-to-89-days',\n",
    "        '35-to-55-days',\n",
    "        '22-to-34-days',\n",
    "        '14-to-21-days',\n",
    "        '9-to-13-days',\n",
    "        '6-to-8-days',\n",
    "        '4-to-5-days',\n",
    "        '3-days',\n",
    "        '2-days',\n",
    "        '1-day',\n",
    "        'Today'\n",
    "    ]]\n",
    "    \n",
    "\n",
    "# Define default preprocessor (permutations of this will be used as needed)\n",
    "preprocessor = ColumnTransformer(\n",
    "    transformers=[\n",
    "        ('cat', OneHotEncoder(drop='first', handle_unknown='ignore'), categorical_cols),\n",
    "        ('ord', OrdinalEncoder(categories=touch_point_categories), ordinal_cols),\n",
    "        ('num', Pipeline([\n",
    "            ('scaler', StandardScaler()),\n",
    "            ('poly', PolynomialFeatures(degree=2, include_bias=False))\n",
    "        ]), numerical_cols)\n",
    "    ]\n",
    ")\n"
   ]
  },
  {
   "cell_type": "markdown",
   "metadata": {},
   "source": [
    "## Complete Pipeline Structure\n",
    "\n",
    "This updated pipeline now properly includes the ordinal encoding for the `touch_point` feature while maintaining the other transformations for categorical and numerical features. Different polynomial degrees will be used as needed.\n",
    "\n",
    "# Full pipeline example with classifier\n",
    "```\n",
    "pipeline = Pipeline(steps=[\n",
    "    ('preprocessor', preprocessor),\n",
    "    ('classifier', YourChosenClassifier())  # Replace with actual classifier\n",
    "])\n",
    "```"
   ]
  },
  {
   "cell_type": "markdown",
   "metadata": {},
   "source": [
    "### Problem 6: Train/Test Split\n",
    "\n",
    "With your data prepared, split it into a train and test set."
   ]
  },
  {
   "cell_type": "code",
   "execution_count": 128,
   "metadata": {},
   "outputs": [],
   "source": [
    "# train_test_split?"
   ]
  },
  {
   "cell_type": "code",
   "execution_count": 140,
   "metadata": {},
   "outputs": [],
   "source": [
    "from sklearn.model_selection import train_test_split\n",
    "X = df_prepared.drop('y', axis=1)\n",
    "y = df_prepared['y']\n",
    "X_train, X_test, y_train, y_test = train_test_split(X, y, test_size=0.25, random_state=42, shuffle=True, stratify=y)"
   ]
  },
  {
   "cell_type": "code",
   "execution_count": null,
   "metadata": {},
   "outputs": [],
   "source": []
  },
  {
   "cell_type": "code",
   "execution_count": null,
   "metadata": {},
   "outputs": [],
   "source": []
  },
  {
   "cell_type": "markdown",
   "metadata": {},
   "source": [
    "### Problem 7: A Baseline Model\n",
    "\n",
    "Before we build our first model, we want to establish a baseline.  What is the baseline performance that our classifier should aim to beat?"
   ]
  },
  {
   "cell_type": "code",
   "execution_count": 144,
   "metadata": {},
   "outputs": [],
   "source": [
    "# Import Libraries\n",
    "from sklearn.compose import make_column_selector, make_column_transformer\n",
    "from sklearn.preprocessing import OneHotEncoder, StandardScaler, PolynomialFeatures\n",
    "from sklearn.linear_model import LogisticRegression\n",
    "from sklearn.feature_selection import SelectFromModel\n",
    "from sklearn.pipeline import Pipeline\n",
    "from sklearn.model_selection import train_test_split, GridSearchCV\n",
    "from sklearn.metrics import ConfusionMatrixDisplay, RocCurveDisplay\n",
    "from sklearn.metrics import confusion_matrix, roc_curve, auc\n",
    "from sklearn.dummy import DummyClassifier\n",
    "from sklearn.metrics import mean_squared_error"
   ]
  },
  {
   "cell_type": "code",
   "execution_count": 145,
   "metadata": {},
   "outputs": [
    {
     "name": "stdout",
     "output_type": "stream",
     "text": [
      "0.8873458288821987\n"
     ]
    }
   ],
   "source": [
    "dummy_clf = DummyClassifier().fit(X_train, y_train)\n",
    "baseline_score = dummy_clf.score(X_test, y_test)\n",
    "\n",
    "print(baseline_score)"
   ]
  },
  {
   "cell_type": "code",
   "execution_count": null,
   "metadata": {},
   "outputs": [],
   "source": []
  },
  {
   "cell_type": "markdown",
   "metadata": {},
   "source": [
    "### Problem 8: A Simple Model\n",
    "\n",
    "Use Logistic Regression to build a basic model on your data.  "
   ]
  },
  {
   "cell_type": "code",
   "execution_count": null,
   "metadata": {},
   "outputs": [],
   "source": []
  },
  {
   "cell_type": "code",
   "execution_count": 146,
   "metadata": {},
   "outputs": [
    {
     "data": {
      "text/html": [
       "<style>#sk-container-id-2 {color: black;background-color: white;}#sk-container-id-2 pre{padding: 0;}#sk-container-id-2 div.sk-toggleable {background-color: white;}#sk-container-id-2 label.sk-toggleable__label {cursor: pointer;display: block;width: 100%;margin-bottom: 0;padding: 0.3em;box-sizing: border-box;text-align: center;}#sk-container-id-2 label.sk-toggleable__label-arrow:before {content: \"▸\";float: left;margin-right: 0.25em;color: #696969;}#sk-container-id-2 label.sk-toggleable__label-arrow:hover:before {color: black;}#sk-container-id-2 div.sk-estimator:hover label.sk-toggleable__label-arrow:before {color: black;}#sk-container-id-2 div.sk-toggleable__content {max-height: 0;max-width: 0;overflow: hidden;text-align: left;background-color: #f0f8ff;}#sk-container-id-2 div.sk-toggleable__content pre {margin: 0.2em;color: black;border-radius: 0.25em;background-color: #f0f8ff;}#sk-container-id-2 input.sk-toggleable__control:checked~div.sk-toggleable__content {max-height: 200px;max-width: 100%;overflow: auto;}#sk-container-id-2 input.sk-toggleable__control:checked~label.sk-toggleable__label-arrow:before {content: \"▾\";}#sk-container-id-2 div.sk-estimator input.sk-toggleable__control:checked~label.sk-toggleable__label {background-color: #d4ebff;}#sk-container-id-2 div.sk-label input.sk-toggleable__control:checked~label.sk-toggleable__label {background-color: #d4ebff;}#sk-container-id-2 input.sk-hidden--visually {border: 0;clip: rect(1px 1px 1px 1px);clip: rect(1px, 1px, 1px, 1px);height: 1px;margin: -1px;overflow: hidden;padding: 0;position: absolute;width: 1px;}#sk-container-id-2 div.sk-estimator {font-family: monospace;background-color: #f0f8ff;border: 1px dotted black;border-radius: 0.25em;box-sizing: border-box;margin-bottom: 0.5em;}#sk-container-id-2 div.sk-estimator:hover {background-color: #d4ebff;}#sk-container-id-2 div.sk-parallel-item::after {content: \"\";width: 100%;border-bottom: 1px solid gray;flex-grow: 1;}#sk-container-id-2 div.sk-label:hover label.sk-toggleable__label {background-color: #d4ebff;}#sk-container-id-2 div.sk-serial::before {content: \"\";position: absolute;border-left: 1px solid gray;box-sizing: border-box;top: 0;bottom: 0;left: 50%;z-index: 0;}#sk-container-id-2 div.sk-serial {display: flex;flex-direction: column;align-items: center;background-color: white;padding-right: 0.2em;padding-left: 0.2em;position: relative;}#sk-container-id-2 div.sk-item {position: relative;z-index: 1;}#sk-container-id-2 div.sk-parallel {display: flex;align-items: stretch;justify-content: center;background-color: white;position: relative;}#sk-container-id-2 div.sk-item::before, #sk-container-id-2 div.sk-parallel-item::before {content: \"\";position: absolute;border-left: 1px solid gray;box-sizing: border-box;top: 0;bottom: 0;left: 50%;z-index: -1;}#sk-container-id-2 div.sk-parallel-item {display: flex;flex-direction: column;z-index: 1;position: relative;background-color: white;}#sk-container-id-2 div.sk-parallel-item:first-child::after {align-self: flex-end;width: 50%;}#sk-container-id-2 div.sk-parallel-item:last-child::after {align-self: flex-start;width: 50%;}#sk-container-id-2 div.sk-parallel-item:only-child::after {width: 0;}#sk-container-id-2 div.sk-dashed-wrapped {border: 1px dashed gray;margin: 0 0.4em 0.5em 0.4em;box-sizing: border-box;padding-bottom: 0.4em;background-color: white;}#sk-container-id-2 div.sk-label label {font-family: monospace;font-weight: bold;display: inline-block;line-height: 1.2em;}#sk-container-id-2 div.sk-label-container {text-align: center;}#sk-container-id-2 div.sk-container {/* jupyter's `normalize.less` sets `[hidden] { display: none; }` but bootstrap.min.css set `[hidden] { display: none !important; }` so we also need the `!important` here to be able to override the default hidden behavior on the sphinx rendered scikit-learn.org. See: https://github.com/scikit-learn/scikit-learn/issues/21755 */display: inline-block !important;position: relative;}#sk-container-id-2 div.sk-text-repr-fallback {display: none;}</style><div id=\"sk-container-id-2\" class=\"sk-top-container\"><div class=\"sk-text-repr-fallback\"><pre>Pipeline(steps=[(&#x27;preprocessor&#x27;,\n",
       "                 ColumnTransformer(transformers=[(&#x27;cat&#x27;,\n",
       "                                                  OneHotEncoder(drop=&#x27;first&#x27;,\n",
       "                                                                handle_unknown=&#x27;ignore&#x27;),\n",
       "                                                  [&#x27;job&#x27;, &#x27;marital&#x27;,\n",
       "                                                   &#x27;education&#x27;, &#x27;contact&#x27;,\n",
       "                                                   &#x27;month&#x27;, &#x27;day_of_week&#x27;,\n",
       "                                                   &#x27;poutcome&#x27;]),\n",
       "                                                 (&#x27;ord&#x27;,\n",
       "                                                  OrdinalEncoder(categories=[[&#x27;Never&#x27;,\n",
       "                                                                              &#x27;999-and-over&#x27;,\n",
       "                                                                              &#x27;611-to-998-days&#x27;,\n",
       "                                                                              &#x27;378-to-610-days&#x27;,\n",
       "                                                                              &#x27;234-to-377-days&#x27;,\n",
       "                                                                              &#x27;145-to-233-days&#x27;,\n",
       "                                                                              &#x27;90-to-144-days&#x27;,\n",
       "                                                                              &#x27;56-to...\n",
       "                                                                              &#x27;4-to-5-days&#x27;,\n",
       "                                                                              &#x27;3-days&#x27;,\n",
       "                                                                              &#x27;2-days&#x27;,\n",
       "                                                                              &#x27;1-day&#x27;,\n",
       "                                                                              &#x27;Today&#x27;]]),\n",
       "                                                  [&#x27;touch_point&#x27;]),\n",
       "                                                 (&#x27;num&#x27;,\n",
       "                                                  Pipeline(steps=[(&#x27;scaler&#x27;,\n",
       "                                                                   StandardScaler()),\n",
       "                                                                  (&#x27;poly&#x27;,\n",
       "                                                                   PolynomialFeatures(include_bias=False))]),\n",
       "                                                  [&#x27;age&#x27;, &#x27;duration&#x27;,\n",
       "                                                   &#x27;campaign&#x27;, &#x27;previous&#x27;,\n",
       "                                                   &#x27;emp.var.rate&#x27;,\n",
       "                                                   &#x27;cons.price.idx&#x27;,\n",
       "                                                   &#x27;cons.conf.idx&#x27;, &#x27;euribor3m&#x27;,\n",
       "                                                   &#x27;nr.employed&#x27;])])),\n",
       "                (&#x27;classifier&#x27;,\n",
       "                 LogisticRegression(max_iter=10000, random_state=42))])</pre><b>In a Jupyter environment, please rerun this cell to show the HTML representation or trust the notebook. <br />On GitHub, the HTML representation is unable to render, please try loading this page with nbviewer.org.</b></div><div class=\"sk-container\" hidden><div class=\"sk-item sk-dashed-wrapped\"><div class=\"sk-label-container\"><div class=\"sk-label sk-toggleable\"><input class=\"sk-toggleable__control sk-hidden--visually\" id=\"sk-estimator-id-11\" type=\"checkbox\" ><label for=\"sk-estimator-id-11\" class=\"sk-toggleable__label sk-toggleable__label-arrow\">Pipeline</label><div class=\"sk-toggleable__content\"><pre>Pipeline(steps=[(&#x27;preprocessor&#x27;,\n",
       "                 ColumnTransformer(transformers=[(&#x27;cat&#x27;,\n",
       "                                                  OneHotEncoder(drop=&#x27;first&#x27;,\n",
       "                                                                handle_unknown=&#x27;ignore&#x27;),\n",
       "                                                  [&#x27;job&#x27;, &#x27;marital&#x27;,\n",
       "                                                   &#x27;education&#x27;, &#x27;contact&#x27;,\n",
       "                                                   &#x27;month&#x27;, &#x27;day_of_week&#x27;,\n",
       "                                                   &#x27;poutcome&#x27;]),\n",
       "                                                 (&#x27;ord&#x27;,\n",
       "                                                  OrdinalEncoder(categories=[[&#x27;Never&#x27;,\n",
       "                                                                              &#x27;999-and-over&#x27;,\n",
       "                                                                              &#x27;611-to-998-days&#x27;,\n",
       "                                                                              &#x27;378-to-610-days&#x27;,\n",
       "                                                                              &#x27;234-to-377-days&#x27;,\n",
       "                                                                              &#x27;145-to-233-days&#x27;,\n",
       "                                                                              &#x27;90-to-144-days&#x27;,\n",
       "                                                                              &#x27;56-to...\n",
       "                                                                              &#x27;4-to-5-days&#x27;,\n",
       "                                                                              &#x27;3-days&#x27;,\n",
       "                                                                              &#x27;2-days&#x27;,\n",
       "                                                                              &#x27;1-day&#x27;,\n",
       "                                                                              &#x27;Today&#x27;]]),\n",
       "                                                  [&#x27;touch_point&#x27;]),\n",
       "                                                 (&#x27;num&#x27;,\n",
       "                                                  Pipeline(steps=[(&#x27;scaler&#x27;,\n",
       "                                                                   StandardScaler()),\n",
       "                                                                  (&#x27;poly&#x27;,\n",
       "                                                                   PolynomialFeatures(include_bias=False))]),\n",
       "                                                  [&#x27;age&#x27;, &#x27;duration&#x27;,\n",
       "                                                   &#x27;campaign&#x27;, &#x27;previous&#x27;,\n",
       "                                                   &#x27;emp.var.rate&#x27;,\n",
       "                                                   &#x27;cons.price.idx&#x27;,\n",
       "                                                   &#x27;cons.conf.idx&#x27;, &#x27;euribor3m&#x27;,\n",
       "                                                   &#x27;nr.employed&#x27;])])),\n",
       "                (&#x27;classifier&#x27;,\n",
       "                 LogisticRegression(max_iter=10000, random_state=42))])</pre></div></div></div><div class=\"sk-serial\"><div class=\"sk-item sk-dashed-wrapped\"><div class=\"sk-label-container\"><div class=\"sk-label sk-toggleable\"><input class=\"sk-toggleable__control sk-hidden--visually\" id=\"sk-estimator-id-12\" type=\"checkbox\" ><label for=\"sk-estimator-id-12\" class=\"sk-toggleable__label sk-toggleable__label-arrow\">preprocessor: ColumnTransformer</label><div class=\"sk-toggleable__content\"><pre>ColumnTransformer(transformers=[(&#x27;cat&#x27;,\n",
       "                                 OneHotEncoder(drop=&#x27;first&#x27;,\n",
       "                                               handle_unknown=&#x27;ignore&#x27;),\n",
       "                                 [&#x27;job&#x27;, &#x27;marital&#x27;, &#x27;education&#x27;, &#x27;contact&#x27;,\n",
       "                                  &#x27;month&#x27;, &#x27;day_of_week&#x27;, &#x27;poutcome&#x27;]),\n",
       "                                (&#x27;ord&#x27;,\n",
       "                                 OrdinalEncoder(categories=[[&#x27;Never&#x27;,\n",
       "                                                             &#x27;999-and-over&#x27;,\n",
       "                                                             &#x27;611-to-998-days&#x27;,\n",
       "                                                             &#x27;378-to-610-days&#x27;,\n",
       "                                                             &#x27;234-to-377-days&#x27;,\n",
       "                                                             &#x27;145-to-233-days&#x27;,\n",
       "                                                             &#x27;90-to-144-days&#x27;,\n",
       "                                                             &#x27;56-to-89-days&#x27;,\n",
       "                                                             &#x27;35-to-55-days&#x27;,\n",
       "                                                             &#x27;22-to-34-days&#x27;,\n",
       "                                                             &#x27;14-to-21-days&#x27;,\n",
       "                                                             &#x27;9-to-13-days&#x27;,\n",
       "                                                             &#x27;6-to-8-days&#x27;,\n",
       "                                                             &#x27;4-to-5-days&#x27;,\n",
       "                                                             &#x27;3-days&#x27;, &#x27;2-days&#x27;,\n",
       "                                                             &#x27;1-day&#x27;,\n",
       "                                                             &#x27;Today&#x27;]]),\n",
       "                                 [&#x27;touch_point&#x27;]),\n",
       "                                (&#x27;num&#x27;,\n",
       "                                 Pipeline(steps=[(&#x27;scaler&#x27;, StandardScaler()),\n",
       "                                                 (&#x27;poly&#x27;,\n",
       "                                                  PolynomialFeatures(include_bias=False))]),\n",
       "                                 [&#x27;age&#x27;, &#x27;duration&#x27;, &#x27;campaign&#x27;, &#x27;previous&#x27;,\n",
       "                                  &#x27;emp.var.rate&#x27;, &#x27;cons.price.idx&#x27;,\n",
       "                                  &#x27;cons.conf.idx&#x27;, &#x27;euribor3m&#x27;,\n",
       "                                  &#x27;nr.employed&#x27;])])</pre></div></div></div><div class=\"sk-parallel\"><div class=\"sk-parallel-item\"><div class=\"sk-item\"><div class=\"sk-label-container\"><div class=\"sk-label sk-toggleable\"><input class=\"sk-toggleable__control sk-hidden--visually\" id=\"sk-estimator-id-13\" type=\"checkbox\" ><label for=\"sk-estimator-id-13\" class=\"sk-toggleable__label sk-toggleable__label-arrow\">cat</label><div class=\"sk-toggleable__content\"><pre>[&#x27;job&#x27;, &#x27;marital&#x27;, &#x27;education&#x27;, &#x27;contact&#x27;, &#x27;month&#x27;, &#x27;day_of_week&#x27;, &#x27;poutcome&#x27;]</pre></div></div></div><div class=\"sk-serial\"><div class=\"sk-item\"><div class=\"sk-estimator sk-toggleable\"><input class=\"sk-toggleable__control sk-hidden--visually\" id=\"sk-estimator-id-14\" type=\"checkbox\" ><label for=\"sk-estimator-id-14\" class=\"sk-toggleable__label sk-toggleable__label-arrow\">OneHotEncoder</label><div class=\"sk-toggleable__content\"><pre>OneHotEncoder(drop=&#x27;first&#x27;, handle_unknown=&#x27;ignore&#x27;)</pre></div></div></div></div></div></div><div class=\"sk-parallel-item\"><div class=\"sk-item\"><div class=\"sk-label-container\"><div class=\"sk-label sk-toggleable\"><input class=\"sk-toggleable__control sk-hidden--visually\" id=\"sk-estimator-id-15\" type=\"checkbox\" ><label for=\"sk-estimator-id-15\" class=\"sk-toggleable__label sk-toggleable__label-arrow\">ord</label><div class=\"sk-toggleable__content\"><pre>[&#x27;touch_point&#x27;]</pre></div></div></div><div class=\"sk-serial\"><div class=\"sk-item\"><div class=\"sk-estimator sk-toggleable\"><input class=\"sk-toggleable__control sk-hidden--visually\" id=\"sk-estimator-id-16\" type=\"checkbox\" ><label for=\"sk-estimator-id-16\" class=\"sk-toggleable__label sk-toggleable__label-arrow\">OrdinalEncoder</label><div class=\"sk-toggleable__content\"><pre>OrdinalEncoder(categories=[[&#x27;Never&#x27;, &#x27;999-and-over&#x27;, &#x27;611-to-998-days&#x27;,\n",
       "                            &#x27;378-to-610-days&#x27;, &#x27;234-to-377-days&#x27;,\n",
       "                            &#x27;145-to-233-days&#x27;, &#x27;90-to-144-days&#x27;,\n",
       "                            &#x27;56-to-89-days&#x27;, &#x27;35-to-55-days&#x27;, &#x27;22-to-34-days&#x27;,\n",
       "                            &#x27;14-to-21-days&#x27;, &#x27;9-to-13-days&#x27;, &#x27;6-to-8-days&#x27;,\n",
       "                            &#x27;4-to-5-days&#x27;, &#x27;3-days&#x27;, &#x27;2-days&#x27;, &#x27;1-day&#x27;,\n",
       "                            &#x27;Today&#x27;]])</pre></div></div></div></div></div></div><div class=\"sk-parallel-item\"><div class=\"sk-item\"><div class=\"sk-label-container\"><div class=\"sk-label sk-toggleable\"><input class=\"sk-toggleable__control sk-hidden--visually\" id=\"sk-estimator-id-17\" type=\"checkbox\" ><label for=\"sk-estimator-id-17\" class=\"sk-toggleable__label sk-toggleable__label-arrow\">num</label><div class=\"sk-toggleable__content\"><pre>[&#x27;age&#x27;, &#x27;duration&#x27;, &#x27;campaign&#x27;, &#x27;previous&#x27;, &#x27;emp.var.rate&#x27;, &#x27;cons.price.idx&#x27;, &#x27;cons.conf.idx&#x27;, &#x27;euribor3m&#x27;, &#x27;nr.employed&#x27;]</pre></div></div></div><div class=\"sk-serial\"><div class=\"sk-item\"><div class=\"sk-serial\"><div class=\"sk-item\"><div class=\"sk-estimator sk-toggleable\"><input class=\"sk-toggleable__control sk-hidden--visually\" id=\"sk-estimator-id-18\" type=\"checkbox\" ><label for=\"sk-estimator-id-18\" class=\"sk-toggleable__label sk-toggleable__label-arrow\">StandardScaler</label><div class=\"sk-toggleable__content\"><pre>StandardScaler()</pre></div></div></div><div class=\"sk-item\"><div class=\"sk-estimator sk-toggleable\"><input class=\"sk-toggleable__control sk-hidden--visually\" id=\"sk-estimator-id-19\" type=\"checkbox\" ><label for=\"sk-estimator-id-19\" class=\"sk-toggleable__label sk-toggleable__label-arrow\">PolynomialFeatures</label><div class=\"sk-toggleable__content\"><pre>PolynomialFeatures(include_bias=False)</pre></div></div></div></div></div></div></div></div></div></div><div class=\"sk-item\"><div class=\"sk-estimator sk-toggleable\"><input class=\"sk-toggleable__control sk-hidden--visually\" id=\"sk-estimator-id-20\" type=\"checkbox\" ><label for=\"sk-estimator-id-20\" class=\"sk-toggleable__label sk-toggleable__label-arrow\">LogisticRegression</label><div class=\"sk-toggleable__content\"><pre>LogisticRegression(max_iter=10000, random_state=42)</pre></div></div></div></div></div></div></div>"
      ],
      "text/plain": [
       "Pipeline(steps=[('preprocessor',\n",
       "                 ColumnTransformer(transformers=[('cat',\n",
       "                                                  OneHotEncoder(drop='first',\n",
       "                                                                handle_unknown='ignore'),\n",
       "                                                  ['job', 'marital',\n",
       "                                                   'education', 'contact',\n",
       "                                                   'month', 'day_of_week',\n",
       "                                                   'poutcome']),\n",
       "                                                 ('ord',\n",
       "                                                  OrdinalEncoder(categories=[['Never',\n",
       "                                                                              '999-and-over',\n",
       "                                                                              '611-to-998-days',\n",
       "                                                                              '378-to-610-days',\n",
       "                                                                              '234-to-377-days',\n",
       "                                                                              '145-to-233-days',\n",
       "                                                                              '90-to-144-days',\n",
       "                                                                              '56-to...\n",
       "                                                                              '4-to-5-days',\n",
       "                                                                              '3-days',\n",
       "                                                                              '2-days',\n",
       "                                                                              '1-day',\n",
       "                                                                              'Today']]),\n",
       "                                                  ['touch_point']),\n",
       "                                                 ('num',\n",
       "                                                  Pipeline(steps=[('scaler',\n",
       "                                                                   StandardScaler()),\n",
       "                                                                  ('poly',\n",
       "                                                                   PolynomialFeatures(include_bias=False))]),\n",
       "                                                  ['age', 'duration',\n",
       "                                                   'campaign', 'previous',\n",
       "                                                   'emp.var.rate',\n",
       "                                                   'cons.price.idx',\n",
       "                                                   'cons.conf.idx', 'euribor3m',\n",
       "                                                   'nr.employed'])])),\n",
       "                ('classifier',\n",
       "                 LogisticRegression(max_iter=10000, random_state=42))])"
      ]
     },
     "execution_count": 146,
     "metadata": {},
     "output_type": "execute_result"
    }
   ],
   "source": [
    "pipe_lgr = Pipeline(steps=[\n",
    "    ('preprocessor', preprocessor),\n",
    "    ('classifier', LogisticRegression(max_iter=10000, random_state=42))\n",
    "])\n",
    "pipe_lgr.fit(X_train, y_train)"
   ]
  },
  {
   "cell_type": "markdown",
   "metadata": {},
   "source": [
    "### Problem 9: Score the Model\n",
    "\n",
    "What is the accuracy of your model?"
   ]
  },
  {
   "cell_type": "code",
   "execution_count": 149,
   "metadata": {},
   "outputs": [
    {
     "name": "stdout",
     "output_type": "stream",
     "text": [
      "train_mse_lgr: 0.08581787575669289\n",
      "test_mse_lgr: 0.08439351267359425\n"
     ]
    }
   ],
   "source": [
    "train_mse_lgr = mean_squared_error(y_train, pipe_lgr.predict(X_train))\n",
    "test_mse_lgr = mean_squared_error(y_test,pipe_lgr.predict(X_test))\n",
    "\n",
    "print(f\"train_mse_lgr: {train_mse_lgr}\")\n",
    "print(f\"test_mse_lgr: {test_mse_lgr}\")"
   ]
  },
  {
   "cell_type": "markdown",
   "metadata": {},
   "source": [
    "### Problem 10: Model Comparisons\n",
    "\n",
    "Now, we aim to compare the performance of the Logistic Regression model to our KNN algorithm, Decision Tree, and SVM models.  Using the default settings for each of the models, fit and score each.  Also, be sure to compare the fit time of each of the models.  Present your findings in a `DataFrame` similar to that below:\n",
    "\n",
    "| Model | Train Time | Train Accuracy | Test Accuracy |\n",
    "| ----- | ---------- | -------------  | -----------   |\n",
    "|     |    |.     |.     |"
   ]
  },
  {
   "cell_type": "code",
   "execution_count": null,
   "metadata": {},
   "outputs": [],
   "source": []
  },
  {
   "cell_type": "code",
   "execution_count": null,
   "metadata": {},
   "outputs": [],
   "source": []
  },
  {
   "cell_type": "code",
   "execution_count": null,
   "metadata": {},
   "outputs": [],
   "source": []
  },
  {
   "cell_type": "markdown",
   "metadata": {},
   "source": [
    "### Problem 11: Improving the Model\n",
    "\n",
    "Now that we have some basic models on the board, we want to try to improve these.  Below, we list a few things to explore in this pursuit.\n",
    "\n",
    "- More feature engineering and exploration.  For example, should we keep the gender feature?  Why or why not?\n",
    "- Hyperparameter tuning and grid search.  All of our models have additional hyperparameters to tune and explore.  For example the number of neighbors in KNN or the maximum depth of a Decision Tree.  \n",
    "- Adjust your performance metric"
   ]
  },
  {
   "cell_type": "code",
   "execution_count": null,
   "metadata": {},
   "outputs": [],
   "source": []
  },
  {
   "cell_type": "code",
   "execution_count": null,
   "metadata": {},
   "outputs": [],
   "source": []
  },
  {
   "cell_type": "code",
   "execution_count": null,
   "metadata": {},
   "outputs": [],
   "source": []
  },
  {
   "cell_type": "code",
   "execution_count": null,
   "metadata": {},
   "outputs": [],
   "source": []
  },
  {
   "cell_type": "code",
   "execution_count": null,
   "metadata": {},
   "outputs": [],
   "source": []
  },
  {
   "cell_type": "code",
   "execution_count": null,
   "metadata": {},
   "outputs": [],
   "source": []
  },
  {
   "cell_type": "code",
   "execution_count": null,
   "metadata": {},
   "outputs": [],
   "source": []
  },
  {
   "cell_type": "code",
   "execution_count": null,
   "metadata": {},
   "outputs": [],
   "source": []
  },
  {
   "cell_type": "code",
   "execution_count": null,
   "metadata": {},
   "outputs": [],
   "source": []
  },
  {
   "cell_type": "code",
   "execution_count": null,
   "metadata": {},
   "outputs": [],
   "source": []
  },
  {
   "cell_type": "code",
   "execution_count": null,
   "metadata": {},
   "outputs": [],
   "source": []
  },
  {
   "cell_type": "markdown",
   "metadata": {},
   "source": [
    "##### Questions"
   ]
  }
 ],
 "metadata": {
  "kernelspec": {
   "display_name": "Python 3 (ipykernel)",
   "language": "python",
   "name": "python3"
  },
  "language_info": {
   "codemirror_mode": {
    "name": "ipython",
    "version": 3
   },
   "file_extension": ".py",
   "mimetype": "text/x-python",
   "name": "python",
   "nbconvert_exporter": "python",
   "pygments_lexer": "ipython3",
   "version": "3.11.7"
  },
  "widgets": {
   "application/vnd.jupyter.widget-state+json": {
    "state": {},
    "version_major": 2,
    "version_minor": 0
   }
  }
 },
 "nbformat": 4,
 "nbformat_minor": 4
}
